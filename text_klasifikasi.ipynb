{
 "cells": [
  {
   "cell_type": "code",
   "execution_count": null,
   "metadata": {},
   "outputs": [],
   "source": [
    "%pip install pandas\n",
    "%pip install openpyxl\n",
    "%pip install nltk\n"
   ]
  },
  {
   "cell_type": "code",
   "execution_count": null,
   "metadata": {},
   "outputs": [],
   "source": [
    "import pandas as pd\n",
    "import nltk\n",
    "nltk.download('punkt')\n",
    "from nltk.tokenize import word_tokenize\n",
    "\n",
    "data = pd.read_excel('hasil/hasil_preposesing.xlsx')"
   ]
  },
  {
   "cell_type": "code",
   "execution_count": null,
   "metadata": {},
   "outputs": [],
   "source": [
    "import csv\n",
    "\n",
    "def read_lexicon(file_path):\n",
    "    with open(file_path, 'r') as csvfile:\n",
    "        lexicon = {row[0]: int(row[1]) for row in csv.reader(csvfile)}\n",
    "    return lexicon\n",
    "\n",
    "def sentiment_analysis_lexicon_indonesia(text, lexicon_positive, lexicon_negative):\n",
    "    score = sum(lexicon_positive.get(word, 0) + lexicon_negative.get(word, 0) for word in text)\n",
    "    if pd.isna(score):\n",
    "        score = 0  # Set score to 0 if it's NaN\n",
    "    unclassified_words = [word for word in text if word not in lexicon_positive and word not in lexicon_negative]\n",
    "    return pd.Series([score, unclassified_words], index=['polarity_text', 'unclassified_words'])\n",
    "\n",
    "lexicon_positive = read_lexicon('dataset/lexicon_positive.csv')\n",
    "lexicon_negative = read_lexicon('dataset/lexicon_negative.csv')\n",
    "\n",
    "def tokenize_and_analyze_sentiment(text, lexicon_positive, lexicon_negative):\n",
    "    tokenized_text = word_tokenize(text)\n",
    "    return sentiment_analysis_lexicon_indonesia(tokenized_text, lexicon_positive, lexicon_negative)\n",
    "\n",
    "\n",
    "data[['polarity_text', 'unclassified_words']] = data['text_join'].fillna('').apply(lambda x: tokenize_and_analyze_sentiment(x, lexicon_positive, lexicon_negative))\n",
    "data"
   ]
  },
  {
   "cell_type": "code",
   "execution_count": null,
   "metadata": {},
   "outputs": [],
   "source": [
    "unclassified_words = set()\n",
    "\n",
    "for value in data['unclassified_words']:\n",
    "    if isinstance(value, list) and value:\n",
    "        unclassified_words.update(value)\n",
    "\n",
    "filtered_df = pd.DataFrame(list(unclassified_words), columns=['unclassified_words'])\n",
    "\n",
    "#simpan data emoticon yang tidak bisa klasifikasi\n",
    "filtered_df.to_excel('gagal_proses/unclassified_words.xlsx', index=False)\n",
    "\n",
    "#hapus kolom unprocessable_emoticons tidak butuh\n",
    "data.drop('unclassified_words', axis=1, inplace=True)"
   ]
  },
  {
   "cell_type": "code",
   "execution_count": null,
   "metadata": {},
   "outputs": [],
   "source": [
    "data.to_excel('hasil/hasil_preposesing.xlsx', index=False)"
   ]
  }
 ],
 "metadata": {
  "kernelspec": {
   "display_name": "Python 3",
   "language": "python",
   "name": "python3"
  },
  "language_info": {
   "codemirror_mode": {
    "name": "ipython",
    "version": 3
   },
   "file_extension": ".py",
   "mimetype": "text/x-python",
   "name": "python",
   "nbconvert_exporter": "python",
   "pygments_lexer": "ipython3",
   "version": "3.12.2"
  }
 },
 "nbformat": 4,
 "nbformat_minor": 2
}
