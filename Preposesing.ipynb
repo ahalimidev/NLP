{
 "cells": [
  {
   "cell_type": "code",
   "execution_count": null,
   "metadata": {},
   "outputs": [],
   "source": [
    "%pip install pandas\n",
    "%pip install openpyxl\n",
    "%pip install nltk\n",
    "%pip install Sastrawi\n",
    "%pip install swifter"
   ]
  },
  {
   "cell_type": "code",
   "execution_count": null,
   "metadata": {},
   "outputs": [],
   "source": [
    "import pandas as pd\n",
    "\n",
    "data = pd.read_excel('hasil/dataset.xlsx')\n",
    "data.head()"
   ]
  },
  {
   "cell_type": "markdown",
   "metadata": {},
   "source": [
    "Case Folding"
   ]
  },
  {
   "cell_type": "code",
   "execution_count": null,
   "metadata": {},
   "outputs": [],
   "source": [
    "data['cf'] = data['text'].str.lower()\n",
    "data['cf'] = data['cf'].astype(str).replace(r'[^a-zA-z0-9\\s]', '', regex=True)\n",
    "\n",
    "data.head()"
   ]
  },
  {
   "cell_type": "markdown",
   "metadata": {},
   "source": [
    "Cleaning "
   ]
  },
  {
   "cell_type": "code",
   "execution_count": null,
   "metadata": {},
   "outputs": [],
   "source": [
    "import re\n",
    "\n",
    "def clean_tweet(text):\n",
    "    text = re.sub(\"([@#][A-Za-z0-9]+)|(\\w+:\\/\\/\\S+)|([^\\x00-\\x7F]+)\", \" \", text)\n",
    "    text = re.sub(r\"\\d+\", \"\", text)\n",
    "    text = text.strip()\n",
    "    text = re.sub('\\s+', ' ', text)\n",
    "    text = re.sub(r\"\\b[a-zA-Z]\\b\", \"\", text)\n",
    "    return text\n",
    "\n",
    "data['clean'] = data['cf'].apply(clean_tweet)\n",
    "data.head()\n"
   ]
  },
  {
   "cell_type": "markdown",
   "metadata": {},
   "source": [
    "Tokenasi"
   ]
  },
  {
   "cell_type": "code",
   "execution_count": null,
   "metadata": {},
   "outputs": [],
   "source": [
    "import nltk\n",
    "nltk.download('punkt')\n",
    "from nltk.tokenize import word_tokenize\n",
    "\n",
    "def word_tokenize_wrapper(text):\n",
    "    return word_tokenize(text)\n",
    "\n",
    "data['token'] = data['clean'].apply(word_tokenize_wrapper)\n",
    "data.head()"
   ]
  },
  {
   "cell_type": "markdown",
   "metadata": {},
   "source": [
    "Normaliasi"
   ]
  },
  {
   "cell_type": "code",
   "execution_count": null,
   "metadata": {},
   "outputs": [],
   "source": [
    "\n",
    "# Load normalisasi\n",
    "normalizad_word = pd.read_excel(\"dataset/normalisasi.xlsx\")\n",
    "normalizad_word_dict = {row[0]: row[1] for _, row in normalizad_word.iterrows()}\n",
    "\n",
    "# Normalisasi term\n",
    "def normalized_term(document):\n",
    "    normalized = []\n",
    "    failed_terms = []\n",
    "    for term in document:\n",
    "        try:\n",
    "            normalized.append(normalizad_word_dict[term])\n",
    "        except KeyError:\n",
    "            failed_terms.append(term)\n",
    "            normalized.append(term)\n",
    "    return normalized, failed_terms\n",
    "\n",
    "# Normalisasi\n",
    "data[['normalisasi', 'gagal_normalisasi']] = pd.DataFrame(data['token'].apply(normalized_term).tolist(), index=data.index)\n",
    "\n",
    "# Menghitung presentase kegagalan\n",
    "jumlah_gagal = data['gagal_normalisasi'].apply(lambda x: 1 if len(x) > 0 else 0).sum()\n",
    "total_data = len(data)\n",
    "presentase_gagal = (jumlah_gagal / total_data) * 100\n",
    "\n",
    "print(\"Total kegagalan:\", jumlah_gagal)\n",
    "print(\"Total data:\", total_data)\n",
    "presentase_kegagalan = f\"{presentase_gagal:.2f} %\"\n",
    "print(\"Presentase kegagalan:\", presentase_kegagalan)\n",
    "data.head()"
   ]
  },
  {
   "cell_type": "code",
   "execution_count": null,
   "metadata": {},
   "outputs": [],
   "source": [
    "gagal_normalisasi = set()\n",
    "\n",
    "for value in data['gagal_normalisasi']:\n",
    "    if isinstance(value, list) and value:\n",
    "        gagal_normalisasi.update(value)\n",
    "\n",
    "filtered_df = pd.DataFrame(list(gagal_normalisasi), columns=['gagal_normalisasi'])\n",
    "\n",
    "#simpan data emoticon yang tidak bisa klasifikasi\n",
    "filtered_df.to_excel('gagal_proses/gagal_normalisasi.xlsx', index=False)\n",
    "\n",
    "#hapus kolom unprocessable_emoticons tidak butuh\n",
    "data.drop('gagal_normalisasi', axis=1, inplace=True)"
   ]
  },
  {
   "cell_type": "markdown",
   "metadata": {},
   "source": [
    "Stopwords"
   ]
  },
  {
   "cell_type": "code",
   "execution_count": null,
   "metadata": {},
   "outputs": [],
   "source": [
    "import nltk\n",
    "from nltk.corpus import stopwords\n",
    "\n",
    "nltk.download('stopwords')\n",
    "list_stopwords = stopwords.words('indonesian')\n",
    "def stopwords_removal(words):\n",
    "    return [word for word in words if word not in list_stopwords]\n",
    "data['stopwords'] = data['normalisasi'].apply(stopwords_removal)\n",
    "data.head()\n"
   ]
  },
  {
   "cell_type": "markdown",
   "metadata": {},
   "source": [
    "stemming"
   ]
  },
  {
   "cell_type": "code",
   "execution_count": null,
   "metadata": {},
   "outputs": [],
   "source": [
    "from Sastrawi.Stemmer.StemmerFactory import StemmerFactory\n",
    "import pandas as pd\n",
    "\n",
    "try:\n",
    "    factory = StemmerFactory()\n",
    "    stemmer = factory.create_stemmer()\n",
    "except FileNotFoundError:\n",
    "    print(\"File dataset untuk proses stemming tidak ditemukan.\")\n",
    "\n",
    "def stem(teks):\n",
    "    try:\n",
    "        text = [stemmer.stem(word) for word in teks]\n",
    "        return text, []\n",
    "    except AttributeError:\n",
    "        return [], teks\n",
    "\n",
    "data[['stemming', 'gagal_stemming']] = pd.DataFrame(data['stopwords'].apply(stem).tolist(), index=data.index)\n",
    "\n",
    "# Menghitung presentase kegagalan\n",
    "jumlah_gagal_stemming = (data['gagal_stemming'].apply(len) > 0).sum()\n",
    "total_data_stemming = len(data)\n",
    "presentase_gagal_stemming = (jumlah_gagal_stemming / total_data_stemming) * 100\n",
    "\n",
    "print(\"Total kegagalan stemming:\", jumlah_gagal_stemming)\n",
    "print(\"Total data stemming:\", total_data_stemming)\n",
    "presentase_kegagalan = f\"{presentase_gagal_stemming:.2f} %\"\n",
    "print(\"Presentase kegagalan:\", presentase_kegagalan)\n",
    "data.head()\n"
   ]
  },
  {
   "cell_type": "code",
   "execution_count": null,
   "metadata": {},
   "outputs": [],
   "source": [
    "gagal_stemming = set()\n",
    "\n",
    "for value in data['gagal_stemming']:\n",
    "    if isinstance(value, list) and value:\n",
    "        gagal_stemming.update(value)\n",
    "\n",
    "filtered_df = pd.DataFrame(list(gagal_stemming), columns=['gagal_stemming'])\n",
    "\n",
    "#simpan data emoticon yang tidak bisa klasifikasi\n",
    "filtered_df.to_excel('gagal_proses/gagal_stemming.xlsx', index=False)\n",
    "\n",
    "#hapus kolom unprocessable_emoticons tidak butuh\n",
    "data.drop('gagal_stemming', axis=1, inplace=True)"
   ]
  },
  {
   "cell_type": "code",
   "execution_count": null,
   "metadata": {},
   "outputs": [],
   "source": [
    "import ast\n",
    "\n",
    "data['text_join'] = data['stemming'].apply(str)\n",
    "\n",
    "def join_text_list(texts):\n",
    "    texts = ast.literal_eval(texts)\n",
    "    return ' '.join([text for text in texts])\n",
    "\n",
    "data[\"text_join\"] = data['text_join'].apply(join_text_list)\n",
    "\n",
    "data.to_excel('hasil/hasil_preposesing.xlsx', index=False)\n"
   ]
  }
 ],
 "metadata": {
  "kernelspec": {
   "display_name": "Python 3",
   "language": "python",
   "name": "python3"
  },
  "language_info": {
   "codemirror_mode": {
    "name": "ipython",
    "version": 3
   },
   "file_extension": ".py",
   "mimetype": "text/x-python",
   "name": "python",
   "nbconvert_exporter": "python",
   "pygments_lexer": "ipython3",
   "version": "3.12.2"
  }
 },
 "nbformat": 4,
 "nbformat_minor": 2
}
