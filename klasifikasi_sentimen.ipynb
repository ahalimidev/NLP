{
 "cells": [
  {
   "cell_type": "code",
   "execution_count": null,
   "metadata": {},
   "outputs": [],
   "source": [
    "%pip install pandas\n",
    "%pip install openpyxl\n",
    "%pip install matplotlib\n",
    "%pip install WordCloud"
   ]
  },
  {
   "cell_type": "markdown",
   "metadata": {},
   "source": [
    "# Jika pada hasil prespossing ada emoticon maka menggunakan proses bawah ini"
   ]
  },
  {
   "cell_type": "code",
   "execution_count": null,
   "metadata": {},
   "outputs": [],
   "source": [
    "import pandas as pd\n",
    "\n",
    "data = pd.read_excel('hasil/hasil_preposesing.xlsx')\n",
    "final = pd.DataFrame()\n",
    "final['text'] = data['text']\n",
    "final['rating'] = data['rating']\n",
    "final['polarity_emoticon'] = data['polarity_emotion']\n",
    "final['polarity_text'] = data['polarity_text']\n",
    "final['text_join'] = data['text_join']\n",
    "final.head()"
   ]
  },
  {
   "cell_type": "markdown",
   "metadata": {},
   "source": [
    "jika mengetahui positif, negatif dan netral"
   ]
  },
  {
   "cell_type": "code",
   "execution_count": null,
   "metadata": {},
   "outputs": [],
   "source": [
    "# Function to determine sentiment polarity of tweets\n",
    "def sentiment_analysis(polarity):\n",
    "    senntimen = ''\n",
    "    if polarity > 0:\n",
    "        senntimen = 'positif'\n",
    "    elif polarity < 0:\n",
    "        senntimen = 'negatif'\n",
    "    else:\n",
    "        senntimen = 'netral'\n",
    "    return pd.Series([polarity, senntimen], index=['polarity', 'sentimen'])\n",
    "\n",
    "final['polarity'] = final['polarity_text'].astype(int) + final['polarity_emoticon'].astype(int)\n",
    "final[['polarity', 'sentimen']] = final['polarity'].apply(sentiment_analysis)\n",
    "\n",
    "# Hitung jumlah kategori sentimen\n",
    "sentiment_counts = final['sentimen'].value_counts()\n",
    "total_data = len(final)\n",
    "sentiment_percentages = (sentiment_counts / total_data) * 100\n",
    "sentiment_percentages_rounded = sentiment_percentages.round(2)  # Bundel nilai bulat\n",
    "final_summary = pd.DataFrame({'jumlah': sentiment_counts, 'persentase (%)': sentiment_percentages_rounded})\n",
    "final_summary.loc['total'] = final_summary.sum()\n",
    "print(\"Summary Sentiment Analysis:\")\n",
    "print(final_summary)\n",
    "print(\"\\nTotal data:\", total_data)\n",
    "\n",
    "final.to_excel('hasil/klasifikasi_sentimen.xlsx', index=False)\n"
   ]
  },
  {
   "cell_type": "code",
   "execution_count": null,
   "metadata": {},
   "outputs": [],
   "source": [
    "import matplotlib.pyplot as plt\n",
    "\n",
    "chart_value = final['sentimen'].value_counts().values\n",
    "chart_index = final['sentimen'].value_counts().index\n",
    "\n",
    "colors = plt.cm.viridis_r(chart_value / float(max(chart_value)))  # Menggunakan colormap viridis_r\n",
    "plt.bar(chart_index, chart_value, color=colors, alpha=0.7)\n",
    "\n",
    "plt.title('Analisis Sentimen')\n",
    "plt.xlabel('Sentimen')\n",
    "plt.ylabel('Jumlah Sentimen')\n",
    "plt.grid(color='#a83289', linestyle='--', linewidth=1, axis='y', alpha=0.25)\n",
    "plt.show()\n"
   ]
  },
  {
   "cell_type": "markdown",
   "metadata": {},
   "source": [
    "jika mengetahui lebih detail pesarasan "
   ]
  },
  {
   "cell_type": "code",
   "execution_count": null,
   "metadata": {},
   "outputs": [],
   "source": [
    "# Fungsi untuk menentukan polaritas sentimen dari teks\n",
    "def sentiment_analysis(polarity):\n",
    "    kategori_sentimen = ''\n",
    "    if polarity > 8:\n",
    "        kategori_sentimen = 'sangat senang'\n",
    "    elif polarity > 6:\n",
    "        kategori_sentimen = 'sangat bahagia'\n",
    "    elif polarity > 4:\n",
    "        kategori_sentimen = 'bahagia'\n",
    "    elif polarity > 2:\n",
    "        kategori_sentimen = 'puas'\n",
    "    elif polarity > 1:\n",
    "        kategori_sentimen = 'netral'\n",
    "    elif polarity > -4:\n",
    "        kategori_sentimen = 'sedih'\n",
    "    elif polarity > -6:\n",
    "        kategori_sentimen = 'sangat sedih'\n",
    "    elif polarity > -8:\n",
    "        kategori_sentimen = 'sangat marah'\n",
    "    else:\n",
    "        kategori_sentimen = 'marah'\n",
    "    return pd.Series([polarity, kategori_sentimen], index=['polarity', 'sentimen'])\n",
    "\n",
    "final['polarity'] = final['polarity_text'].astype(int) + final['polarity_emoticon'].astype(int)\n",
    "final[['polarity', 'sentimen']] = final['polarity'].apply(sentiment_analysis)\n",
    "\n",
    "# Hitung jumlah kategori sentimen\n",
    "sentiment_counts = final['sentimen'].value_counts()\n",
    "total_data = len(final)\n",
    "sentiment_percentages = (sentiment_counts / total_data) * 100\n",
    "sentiment_percentages_rounded = sentiment_percentages.round(2)  # Bundel nilai bulat\n",
    "final_summary = pd.DataFrame({'jumlah': sentiment_counts, 'persentase (%)': sentiment_percentages_rounded})\n",
    "final_summary.loc['total'] = final_summary.sum()\n",
    "print(\"Summary Sentiment Analysis:\")\n",
    "print(final_summary)\n",
    "print(\"\\nTotal data:\", total_data)\n",
    "\n",
    "final.to_excel('hasil/klasifikasi_sentimen_perasaan.xlsx', index=False)\n"
   ]
  },
  {
   "cell_type": "code",
   "execution_count": null,
   "metadata": {},
   "outputs": [],
   "source": [
    "import matplotlib.pyplot as plt\n",
    "\n",
    "chart_value = final['sentimen'].value_counts().values\n",
    "chart_index = final['sentimen'].value_counts().index\n",
    "\n",
    "colors = plt.cm.viridis_r(chart_value / float(max(chart_value)))  # Menggunakan colormap viridis_r\n",
    "plt.bar(chart_index, chart_value, color=colors, alpha=0.7)\n",
    "\n",
    "plt.title('Analisis Sentimen')\n",
    "plt.xlabel('Sentimen')\n",
    "plt.ylabel('Jumlah Sentimen')\n",
    "plt.grid(color='#a83289', linestyle='--', linewidth=1, axis='y', alpha=0.25)\n",
    "\n",
    "# Rotasi label sumbu x\n",
    "plt.xticks(rotation=45, ha='right')  # Rotasi 45 derajat dan penempatan ke kanan\n",
    "\n",
    "plt.show()\n"
   ]
  },
  {
   "cell_type": "markdown",
   "metadata": {},
   "source": [
    "# Jika pada hasil prespossing tanpe emoticon maka menggunakan proses bawah ini"
   ]
  },
  {
   "cell_type": "code",
   "execution_count": null,
   "metadata": {},
   "outputs": [],
   "source": [
    "import pandas as pd\n",
    "\n",
    "data = pd.read_excel('hasil/hasil_preposesing.xlsx')\n",
    "final = pd.DataFrame()\n",
    "final['text'] = data['text']\n",
    "final['rating'] = data['rating']\n",
    "final['polarity_text'] = data['polarity_text']\n",
    "final['text_join'] = data['text_join']\n",
    "final.head()"
   ]
  },
  {
   "cell_type": "markdown",
   "metadata": {},
   "source": [
    "jika mengetahui positif, negatif dan netral"
   ]
  },
  {
   "cell_type": "code",
   "execution_count": null,
   "metadata": {},
   "outputs": [],
   "source": [
    "# Function to determine sentiment polarity of tweets\n",
    "def sentiment_analysis(polarity):\n",
    "    senntimen = ''\n",
    "    if polarity > 0:\n",
    "        senntimen = 'positif'\n",
    "    elif polarity < 0:\n",
    "        senntimen = 'negatif'\n",
    "    else:\n",
    "        senntimen = 'netral'\n",
    "    return pd.Series([polarity, senntimen], index=['polarity_text', 'sentimen'])\n",
    "\n",
    "final[['polarity_text', 'sentimen']] = final['polarity_text'].apply(sentiment_analysis)\n",
    "\n",
    "# Hitung jumlah kategori sentimen\n",
    "sentiment_counts = final['sentimen'].value_counts()\n",
    "total_data = len(final)\n",
    "sentiment_percentages = (sentiment_counts / total_data) * 100\n",
    "sentiment_percentages_rounded = sentiment_percentages.round(2)  # Bundel nilai bulat\n",
    "final_summary = pd.DataFrame({'jumlah': sentiment_counts, 'persentase (%)': sentiment_percentages_rounded})\n",
    "final_summary.loc['total'] = final_summary.sum()\n",
    "print(\"Summary Sentiment Analysis:\")\n",
    "print(final_summary)\n",
    "print(\"\\nTotal data:\", total_data)\n",
    "\n",
    "final.to_excel('hasil/klasifikasi_sentimen.xlsx', index=False)\n"
   ]
  },
  {
   "cell_type": "code",
   "execution_count": null,
   "metadata": {},
   "outputs": [],
   "source": [
    "import matplotlib.pyplot as plt\n",
    "\n",
    "chart_value = final['sentimen'].value_counts().values\n",
    "chart_index = final['sentimen'].value_counts().index\n",
    "\n",
    "colors = plt.cm.viridis_r(chart_value / float(max(chart_value)))  # Menggunakan colormap viridis_r\n",
    "plt.bar(chart_index, chart_value, color=colors, alpha=0.7)\n",
    "\n",
    "plt.title('Analisis Sentimen')\n",
    "plt.xlabel('Sentimen')\n",
    "plt.ylabel('Jumlah Sentimen')\n",
    "plt.grid(color='#a83289', linestyle='--', linewidth=1, axis='y', alpha=0.25)\n",
    "plt.show()\n"
   ]
  },
  {
   "cell_type": "markdown",
   "metadata": {},
   "source": [
    "jika mengetahui lebih detail pesarasan "
   ]
  },
  {
   "cell_type": "code",
   "execution_count": null,
   "metadata": {},
   "outputs": [],
   "source": [
    "# Fungsi untuk menentukan polaritas sentimen dari teks\n",
    "def sentiment_analysis(polarity):\n",
    "    kategori_sentimen = ''\n",
    "    if polarity > 8:\n",
    "        kategori_sentimen = 'sangat senang'\n",
    "    elif polarity > 6:\n",
    "        kategori_sentimen = 'sangat bahagia'\n",
    "    elif polarity > 4:\n",
    "        kategori_sentimen = 'bahagia'\n",
    "    elif polarity > 2:\n",
    "        kategori_sentimen = 'puas'\n",
    "    elif polarity > 1:\n",
    "        kategori_sentimen = 'netral'\n",
    "    elif polarity > -4:\n",
    "        kategori_sentimen = 'sedih'\n",
    "    elif polarity > -6:\n",
    "        kategori_sentimen = 'sangat sedih'\n",
    "    elif polarity > -8:\n",
    "        kategori_sentimen = 'sangat marah'\n",
    "    else:\n",
    "        kategori_sentimen = 'marah'\n",
    "    return pd.Series([polarity, kategori_sentimen], index=['polarity_text', 'sentimen'])\n",
    "\n",
    "final[['polarity_text', 'sentimen']] = final['polarity_text'].apply(sentiment_analysis)\n",
    "\n",
    "# Hitung jumlah kategori sentimen\n",
    "sentiment_counts = final['sentimen'].value_counts()\n",
    "total_data = len(final)\n",
    "sentiment_percentages = (sentiment_counts / total_data) * 100\n",
    "sentiment_percentages_rounded = sentiment_percentages.round(2)  # Bundel nilai bulat\n",
    "final_summary = pd.DataFrame({'jumlah': sentiment_counts, 'persentase (%)': sentiment_percentages_rounded})\n",
    "final_summary.loc['total'] = final_summary.sum()\n",
    "print(\"Summary Sentiment Analysis:\")\n",
    "print(final_summary)\n",
    "print(\"\\nTotal data:\", total_data)\n",
    "\n",
    "final.to_excel('hasil/klasifikasi_sentimen_perasaan.xlsx', index=False)\n"
   ]
  },
  {
   "cell_type": "code",
   "execution_count": null,
   "metadata": {},
   "outputs": [],
   "source": [
    "import matplotlib.pyplot as plt\n",
    "\n",
    "chart_value = final['sentimen'].value_counts().values\n",
    "chart_index = final['sentimen'].value_counts().index\n",
    "\n",
    "colors = plt.cm.viridis_r(chart_value / float(max(chart_value)))  # Menggunakan colormap viridis_r\n",
    "plt.bar(chart_index, chart_value, color=colors, alpha=0.7)\n",
    "\n",
    "plt.title('Analisis Sentimen')\n",
    "plt.xlabel('Sentimen')\n",
    "plt.ylabel('Jumlah Sentimen')\n",
    "plt.grid(color='#a83289', linestyle='--', linewidth=1, axis='y', alpha=0.25)\n",
    "\n",
    "# Rotasi label sumbu x\n",
    "plt.xticks(rotation=45, ha='right')  # Rotasi 45 derajat dan penempatan ke kanan\n",
    "\n",
    "plt.show()\n"
   ]
  }
 ],
 "metadata": {
  "kernelspec": {
   "display_name": "Python 3",
   "language": "python",
   "name": "python3"
  },
  "language_info": {
   "codemirror_mode": {
    "name": "ipython",
    "version": 3
   },
   "file_extension": ".py",
   "mimetype": "text/x-python",
   "name": "python",
   "nbconvert_exporter": "python",
   "pygments_lexer": "ipython3",
   "version": "3.12.2"
  }
 },
 "nbformat": 4,
 "nbformat_minor": 2
}
