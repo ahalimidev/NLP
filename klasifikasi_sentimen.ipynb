{
 "cells": [
  {
   "cell_type": "code",
   "execution_count": 2,
   "metadata": {},
   "outputs": [
    {
     "name": "stdout",
     "output_type": "stream",
     "text": [
      "Requirement already satisfied: pandas in c:\\users\\halim\\appdata\\local\\programs\\python\\python312\\lib\\site-packages (2.2.0)\n",
      "Requirement already satisfied: numpy<2,>=1.26.0 in c:\\users\\halim\\appdata\\local\\programs\\python\\python312\\lib\\site-packages (from pandas) (1.26.4)\n",
      "Requirement already satisfied: python-dateutil>=2.8.2 in c:\\users\\halim\\appdata\\roaming\\python\\python312\\site-packages (from pandas) (2.8.2)\n",
      "Requirement already satisfied: pytz>=2020.1 in c:\\users\\halim\\appdata\\local\\programs\\python\\python312\\lib\\site-packages (from pandas) (2024.1)\n",
      "Requirement already satisfied: tzdata>=2022.7 in c:\\users\\halim\\appdata\\local\\programs\\python\\python312\\lib\\site-packages (from pandas) (2023.4)\n",
      "Requirement already satisfied: six>=1.5 in c:\\users\\halim\\appdata\\roaming\\python\\python312\\site-packages (from python-dateutil>=2.8.2->pandas) (1.16.0)\n",
      "Note: you may need to restart the kernel to use updated packages.\n",
      "Requirement already satisfied: openpyxl in c:\\users\\halim\\appdata\\local\\programs\\python\\python312\\lib\\site-packages (3.1.2)\n",
      "Requirement already satisfied: et-xmlfile in c:\\users\\halim\\appdata\\local\\programs\\python\\python312\\lib\\site-packages (from openpyxl) (1.1.0)\n",
      "Note: you may need to restart the kernel to use updated packages.\n",
      "Requirement already satisfied: matplotlib in c:\\users\\halim\\appdata\\local\\programs\\python\\python312\\lib\\site-packages (3.8.2)\n",
      "Requirement already satisfied: contourpy>=1.0.1 in c:\\users\\halim\\appdata\\local\\programs\\python\\python312\\lib\\site-packages (from matplotlib) (1.2.0)\n",
      "Requirement already satisfied: cycler>=0.10 in c:\\users\\halim\\appdata\\local\\programs\\python\\python312\\lib\\site-packages (from matplotlib) (0.12.1)\n",
      "Requirement already satisfied: fonttools>=4.22.0 in c:\\users\\halim\\appdata\\local\\programs\\python\\python312\\lib\\site-packages (from matplotlib) (4.48.1)\n",
      "Requirement already satisfied: kiwisolver>=1.3.1 in c:\\users\\halim\\appdata\\local\\programs\\python\\python312\\lib\\site-packages (from matplotlib) (1.4.5)\n",
      "Requirement already satisfied: numpy<2,>=1.21 in c:\\users\\halim\\appdata\\local\\programs\\python\\python312\\lib\\site-packages (from matplotlib) (1.26.4)\n",
      "Requirement already satisfied: packaging>=20.0 in c:\\users\\halim\\appdata\\roaming\\python\\python312\\site-packages (from matplotlib) (23.2)\n",
      "Requirement already satisfied: pillow>=8 in c:\\users\\halim\\appdata\\local\\programs\\python\\python312\\lib\\site-packages (from matplotlib) (10.2.0)\n",
      "Requirement already satisfied: pyparsing>=2.3.1 in c:\\users\\halim\\appdata\\local\\programs\\python\\python312\\lib\\site-packages (from matplotlib) (3.1.1)\n",
      "Requirement already satisfied: python-dateutil>=2.7 in c:\\users\\halim\\appdata\\roaming\\python\\python312\\site-packages (from matplotlib) (2.8.2)\n",
      "Requirement already satisfied: six>=1.5 in c:\\users\\halim\\appdata\\roaming\\python\\python312\\site-packages (from python-dateutil>=2.7->matplotlib) (1.16.0)\n",
      "Note: you may need to restart the kernel to use updated packages.\n",
      "Requirement already satisfied: WordCloud in c:\\users\\halim\\appdata\\local\\programs\\python\\python312\\lib\\site-packages (1.9.3)\n",
      "Requirement already satisfied: numpy>=1.6.1 in c:\\users\\halim\\appdata\\local\\programs\\python\\python312\\lib\\site-packages (from WordCloud) (1.26.4)\n",
      "Requirement already satisfied: pillow in c:\\users\\halim\\appdata\\local\\programs\\python\\python312\\lib\\site-packages (from WordCloud) (10.2.0)\n",
      "Requirement already satisfied: matplotlib in c:\\users\\halim\\appdata\\local\\programs\\python\\python312\\lib\\site-packages (from WordCloud) (3.8.2)\n",
      "Requirement already satisfied: contourpy>=1.0.1 in c:\\users\\halim\\appdata\\local\\programs\\python\\python312\\lib\\site-packages (from matplotlib->WordCloud) (1.2.0)\n",
      "Requirement already satisfied: cycler>=0.10 in c:\\users\\halim\\appdata\\local\\programs\\python\\python312\\lib\\site-packages (from matplotlib->WordCloud) (0.12.1)\n",
      "Requirement already satisfied: fonttools>=4.22.0 in c:\\users\\halim\\appdata\\local\\programs\\python\\python312\\lib\\site-packages (from matplotlib->WordCloud) (4.48.1)\n",
      "Requirement already satisfied: kiwisolver>=1.3.1 in c:\\users\\halim\\appdata\\local\\programs\\python\\python312\\lib\\site-packages (from matplotlib->WordCloud) (1.4.5)\n",
      "Requirement already satisfied: packaging>=20.0 in c:\\users\\halim\\appdata\\roaming\\python\\python312\\site-packages (from matplotlib->WordCloud) (23.2)\n",
      "Requirement already satisfied: pyparsing>=2.3.1 in c:\\users\\halim\\appdata\\local\\programs\\python\\python312\\lib\\site-packages (from matplotlib->WordCloud) (3.1.1)\n",
      "Requirement already satisfied: python-dateutil>=2.7 in c:\\users\\halim\\appdata\\roaming\\python\\python312\\site-packages (from matplotlib->WordCloud) (2.8.2)\n",
      "Requirement already satisfied: six>=1.5 in c:\\users\\halim\\appdata\\roaming\\python\\python312\\site-packages (from python-dateutil>=2.7->matplotlib->WordCloud) (1.16.0)\n",
      "Note: you may need to restart the kernel to use updated packages.\n"
     ]
    }
   ],
   "source": [
    "%pip install pandas\n",
    "%pip install openpyxl\n",
    "%pip install matplotlib\n",
    "%pip install WordCloud"
   ]
  },
  {
   "cell_type": "markdown",
   "metadata": {},
   "source": [
    "# Jika pada hasil prespossing ada emoticon maka menggunakan proses bawah ini"
   ]
  },
  {
   "cell_type": "code",
   "execution_count": 3,
   "metadata": {},
   "outputs": [
    {
     "name": "stderr",
     "output_type": "stream",
     "text": [
      "C:\\Users\\halim\\AppData\\Local\\Temp\\ipykernel_8476\\921797510.py:1: DeprecationWarning: \n",
      "Pyarrow will become a required dependency of pandas in the next major release of pandas (pandas 3.0),\n",
      "(to allow more performant data types, such as the Arrow string type, and better interoperability with other libraries)\n",
      "but was not found to be installed on your system.\n",
      "If this would cause problems for you,\n",
      "please provide us feedback at https://github.com/pandas-dev/pandas/issues/54466\n",
      "        \n",
      "  import pandas as pd\n"
     ]
    },
    {
     "data": {
      "text/html": [
       "<div>\n",
       "<style scoped>\n",
       "    .dataframe tbody tr th:only-of-type {\n",
       "        vertical-align: middle;\n",
       "    }\n",
       "\n",
       "    .dataframe tbody tr th {\n",
       "        vertical-align: top;\n",
       "    }\n",
       "\n",
       "    .dataframe thead th {\n",
       "        text-align: right;\n",
       "    }\n",
       "</style>\n",
       "<table border=\"1\" class=\"dataframe\">\n",
       "  <thead>\n",
       "    <tr style=\"text-align: right;\">\n",
       "      <th></th>\n",
       "      <th>text</th>\n",
       "      <th>rating</th>\n",
       "      <th>polarity_emoticon</th>\n",
       "      <th>polarity_text</th>\n",
       "      <th>text_join</th>\n",
       "    </tr>\n",
       "  </thead>\n",
       "  <tbody>\n",
       "    <tr>\n",
       "      <th>0</th>\n",
       "      <td>Aplikasinya bagus semua nya bagus tapi tolong ...</td>\n",
       "      <td>5</td>\n",
       "      <td>1</td>\n",
       "      <td>-16</td>\n",
       "      <td>aplikasi bagus nya bagus tolong tambah teman a...</td>\n",
       "    </tr>\n",
       "    <tr>\n",
       "      <th>1</th>\n",
       "      <td>Lewat aplikasi ruang guru saya bisa tau pembel...</td>\n",
       "      <td>5</td>\n",
       "      <td>0</td>\n",
       "      <td>-6</td>\n",
       "      <td>aplikasi ruang guru ajar pembelajaranya erti</td>\n",
       "    </tr>\n",
       "    <tr>\n",
       "      <th>2</th>\n",
       "      <td>Seru isinya bisa ngerjain tugas dr aplikasi at...</td>\n",
       "      <td>5</td>\n",
       "      <td>0</td>\n",
       "      <td>-5</td>\n",
       "      <td>seru isi tugas aplikasi guru ngajar</td>\n",
       "    </tr>\n",
       "    <tr>\n",
       "      <th>3</th>\n",
       "      <td>Baik</td>\n",
       "      <td>5</td>\n",
       "      <td>0</td>\n",
       "      <td>0</td>\n",
       "      <td>NaN</td>\n",
       "    </tr>\n",
       "    <tr>\n",
       "      <th>4</th>\n",
       "      <td>Jgn di dwnld Nanti bayar</td>\n",
       "      <td>3</td>\n",
       "      <td>0</td>\n",
       "      <td>-2</td>\n",
       "      <td>dwnld bayar</td>\n",
       "    </tr>\n",
       "  </tbody>\n",
       "</table>\n",
       "</div>"
      ],
      "text/plain": [
       "                                                text  rating  \\\n",
       "0  Aplikasinya bagus semua nya bagus tapi tolong ...       5   \n",
       "1  Lewat aplikasi ruang guru saya bisa tau pembel...       5   \n",
       "2  Seru isinya bisa ngerjain tugas dr aplikasi at...       5   \n",
       "3                                               Baik       5   \n",
       "4                           Jgn di dwnld Nanti bayar       3   \n",
       "\n",
       "   polarity_emoticon  polarity_text  \\\n",
       "0                  1            -16   \n",
       "1                  0             -6   \n",
       "2                  0             -5   \n",
       "3                  0              0   \n",
       "4                  0             -2   \n",
       "\n",
       "                                           text_join  \n",
       "0  aplikasi bagus nya bagus tolong tambah teman a...  \n",
       "1       aplikasi ruang guru ajar pembelajaranya erti  \n",
       "2                seru isi tugas aplikasi guru ngajar  \n",
       "3                                                NaN  \n",
       "4                                        dwnld bayar  "
      ]
     },
     "execution_count": 3,
     "metadata": {},
     "output_type": "execute_result"
    }
   ],
   "source": [
    "import pandas as pd\n",
    "\n",
    "data = pd.read_excel('hasil/hasil_preposesing.xlsx')\n",
    "final = pd.DataFrame()\n",
    "final['text'] = data['text']\n",
    "final['rating'] = data['rating']\n",
    "final['polarity_emoticon'] = data['polarity_emotion']\n",
    "final['polarity_text'] = data['polarity_text']\n",
    "final['text_join'] = data['text_join']\n",
    "final.head()"
   ]
  },
  {
   "cell_type": "markdown",
   "metadata": {},
   "source": [
    "jika mengetahui positif, negatif dan netral"
   ]
  },
  {
   "cell_type": "code",
   "execution_count": null,
   "metadata": {},
   "outputs": [],
   "source": [
    "# Function to determine sentiment polarity of tweets\n",
    "def sentiment_analysis(polarity):\n",
    "    senntimen = ''\n",
    "    if polarity > 0:\n",
    "        senntimen = 'positif'\n",
    "    elif polarity < 0:\n",
    "        senntimen = 'negatif'\n",
    "    else:\n",
    "        senntimen = 'netral'\n",
    "    return pd.Series([polarity, senntimen], index=['polarity', 'sentimen'])\n",
    "\n",
    "final['polarity'] = final['polarity_text'].astype(int) + final['polarity_emoticon'].astype(int)\n",
    "final[['polarity', 'sentimen']] = final['polarity'].apply(sentiment_analysis)\n",
    "final = final.dropna()\n",
    "\n",
    "# Hitung jumlah kategori sentimen\n",
    "sentiment_counts = final['sentimen'].value_counts()\n",
    "total_data = len(final)\n",
    "sentiment_percentages = (sentiment_counts / total_data) * 100\n",
    "sentiment_percentages_rounded = sentiment_percentages.round(2)  # Bundel nilai bulat\n",
    "final_summary = pd.DataFrame({'jumlah': sentiment_counts, 'persentase (%)': sentiment_percentages_rounded})\n",
    "final_summary.loc['total'] = final_summary.sum()\n",
    "print(\"Summary Sentiment Analysis:\")\n",
    "print(final_summary)\n",
    "print(\"\\nTotal data:\", total_data)\n",
    "\n",
    "final.to_excel('hasil/klasifikasi_sentimen.xlsx', index=False)\n"
   ]
  },
  {
   "cell_type": "code",
   "execution_count": null,
   "metadata": {},
   "outputs": [],
   "source": [
    "import matplotlib.pyplot as plt\n",
    "\n",
    "chart_value = final['sentimen'].value_counts().values\n",
    "chart_index = final['sentimen'].value_counts().index\n",
    "\n",
    "colors = plt.cm.viridis_r(chart_value / float(max(chart_value)))  # Menggunakan colormap viridis_r\n",
    "plt.bar(chart_index, chart_value, color=colors, alpha=0.7)\n",
    "\n",
    "plt.title('Analisis Sentimen')\n",
    "plt.xlabel('Sentimen')\n",
    "plt.ylabel('Jumlah Sentimen')\n",
    "plt.grid(color='#a83289', linestyle='--', linewidth=1, axis='y', alpha=0.25)\n",
    "plt.show()\n"
   ]
  },
  {
   "cell_type": "markdown",
   "metadata": {},
   "source": [
    "jika mengetahui lebih detail pesarasan "
   ]
  },
  {
   "cell_type": "code",
   "execution_count": 4,
   "metadata": {},
   "outputs": [
    {
     "name": "stdout",
     "output_type": "stream",
     "text": [
      "Summary Sentiment Analysis:\n",
      "                 jumlah  persentase (%)\n",
      "sentimen                               \n",
      "sedih            6643.0           49.40\n",
      "sangat sedih     1221.0            9.08\n",
      "bahagia          1107.0            8.23\n",
      "puas             1104.0            8.21\n",
      "marah            1035.0            7.70\n",
      "sangat marah      815.0            6.06\n",
      "netral            699.0            5.20\n",
      "sangat senang     514.0            3.82\n",
      "sangat bahagia    310.0            2.31\n",
      "total           13448.0          100.01\n",
      "\n",
      "Total data: 13448\n"
     ]
    }
   ],
   "source": [
    "# Fungsi untuk menentukan polaritas sentimen dari teks\n",
    "def sentiment_analysis(polarity):\n",
    "    kategori_sentimen = ''\n",
    "    if polarity > 8:\n",
    "        kategori_sentimen = 'sangat senang'\n",
    "    elif polarity > 6:\n",
    "        kategori_sentimen = 'sangat bahagia'\n",
    "    elif polarity > 4:\n",
    "        kategori_sentimen = 'bahagia'\n",
    "    elif polarity > 2:\n",
    "        kategori_sentimen = 'puas'\n",
    "    elif polarity > 1:\n",
    "        kategori_sentimen = 'netral'\n",
    "    elif polarity > -4:\n",
    "        kategori_sentimen = 'sedih'\n",
    "    elif polarity > -6:\n",
    "        kategori_sentimen = 'sangat sedih'\n",
    "    elif polarity > -8:\n",
    "        kategori_sentimen = 'sangat marah'\n",
    "    else:\n",
    "        kategori_sentimen = 'marah'\n",
    "    return pd.Series([polarity, kategori_sentimen], index=['polarity', 'sentimen']) \n",
    "\n",
    "final['polarity'] = final['polarity_text'].astype(int) + final['polarity_emoticon'].astype(int)\n",
    "final[['polarity', 'sentimen']] = final['polarity'].apply(sentiment_analysis)\n",
    "final = final.dropna()\n",
    "\n",
    "# Hitung jumlah kategori sentimen\n",
    "sentiment_counts = final['sentimen'].value_counts()\n",
    "total_data = len(final)\n",
    "sentiment_percentages = (sentiment_counts / total_data) * 100\n",
    "sentiment_percentages_rounded = sentiment_percentages.round(2)  # Bundel nilai bulat\n",
    "final_summary = pd.DataFrame({'jumlah': sentiment_counts, 'persentase (%)': sentiment_percentages_rounded})\n",
    "final_summary.loc['total'] = final_summary.sum()\n",
    "print(\"Summary Sentiment Analysis:\")\n",
    "print(final_summary)\n",
    "print(\"\\nTotal data:\", total_data)\n",
    "\n",
    "final.to_excel('hasil/klasifikasi_sentimen_perasaan.xlsx', index=False)\n"
   ]
  },
  {
   "cell_type": "code",
   "execution_count": 4,
   "metadata": {},
   "outputs": [
    {
     "data": {
      "image/png": "[encoded data removed]",
      "text/plain": [
       "<Figure size 640x480 with 1 Axes>"
      ]
     },
     "metadata": {},
     "output_type": "display_data"
    }
   ],
   "source": [
    "import matplotlib.pyplot as plt\n",
    "\n",
    "chart_value = final['sentimen'].value_counts().values\n",
    "chart_index = final['sentimen'].value_counts().index\n",
    "\n",
    "colors = plt.cm.viridis_r(chart_value / float(max(chart_value)))  # Menggunakan colormap viridis_r\n",
    "plt.bar(chart_index, chart_value, color=colors, alpha=0.7)\n",
    "\n",
    "plt.title('Analisis Sentimen')\n",
    "plt.xlabel('Sentimen')\n",
    "plt.ylabel('Jumlah Sentimen')\n",
    "plt.grid(color='#a83289', linestyle='--', linewidth=1, axis='y', alpha=0.25)\n",
    "\n",
    "# Rotasi label sumbu x\n",
    "plt.xticks(rotation=45, ha='right')  # Rotasi 45 derajat dan penempatan ke kanan\n",
    "\n",
    "plt.show()\n"
   ]
  },
  {
   "cell_type": "markdown",
   "metadata": {},
   "source": [
    "# Jika pada hasil prespossing tanpe emoticon maka menggunakan proses bawah ini"
   ]
  },
  {
   "cell_type": "code",
   "execution_count": null,
   "metadata": {},
   "outputs": [],
   "source": [
    "import pandas as pd\n",
    "\n",
    "data = pd.read_excel('hasil/hasil_preposesing.xlsx')\n",
    "final = pd.DataFrame()\n",
    "final['text'] = data['text']\n",
    "final['rating'] = data['rating']\n",
    "final['polarity_text'] = data['polarity_text']\n",
    "final['text_join'] = data['text_join']\n",
    "final.head()"
   ]
  },
  {
   "cell_type": "markdown",
   "metadata": {},
   "source": [
    "jika mengetahui positif, negatif dan netral"
   ]
  },
  {
   "cell_type": "code",
   "execution_count": null,
   "metadata": {},
   "outputs": [],
   "source": [
    "# Function to determine sentiment polarity of tweets\n",
    "def sentiment_analysis(polarity):\n",
    "    senntimen = ''\n",
    "    if polarity > 0:\n",
    "        senntimen = 'positif'\n",
    "    elif polarity < 0:\n",
    "        senntimen = 'negatif'\n",
    "    else:\n",
    "        senntimen = 'netral'\n",
    "    return pd.Series([polarity, senntimen], index=['polarity_text', 'sentimen'])\n",
    "\n",
    "final[['polarity_text', 'sentimen']] = final['polarity_text'].apply(sentiment_analysis)\n",
    "final = final.dropna()\n",
    "\n",
    "# Hitung jumlah kategori sentimen\n",
    "sentiment_counts = final['sentimen'].value_counts()\n",
    "total_data = len(final)\n",
    "sentiment_percentages = (sentiment_counts / total_data) * 100\n",
    "sentiment_percentages_rounded = sentiment_percentages.round(2)  # Bundel nilai bulat\n",
    "final_summary = pd.DataFrame({'jumlah': sentiment_counts, 'persentase (%)': sentiment_percentages_rounded})\n",
    "final_summary.loc['total'] = final_summary.sum()\n",
    "print(\"Summary Sentiment Analysis:\")\n",
    "print(final_summary)\n",
    "print(\"\\nTotal data:\", total_data)\n",
    "\n",
    "final.to_excel('hasil/klasifikasi_sentimen.xlsx', index=False)\n"
   ]
  },
  {
   "cell_type": "code",
   "execution_count": null,
   "metadata": {},
   "outputs": [],
   "source": [
    "import matplotlib.pyplot as plt\n",
    "\n",
    "chart_value = final['sentimen'].value_counts().values\n",
    "chart_index = final['sentimen'].value_counts().index\n",
    "\n",
    "colors = plt.cm.viridis_r(chart_value / float(max(chart_value)))  # Menggunakan colormap viridis_r\n",
    "plt.bar(chart_index, chart_value, color=colors, alpha=0.7)\n",
    "\n",
    "plt.title('Analisis Sentimen')\n",
    "plt.xlabel('Sentimen')\n",
    "plt.ylabel('Jumlah Sentimen')\n",
    "plt.grid(color='#a83289', linestyle='--', linewidth=1, axis='y', alpha=0.25)\n",
    "plt.show()\n"
   ]
  },
  {
   "cell_type": "markdown",
   "metadata": {},
   "source": [
    "jika mengetahui lebih detail pesarasan "
   ]
  },
  {
   "cell_type": "code",
   "execution_count": null,
   "metadata": {},
   "outputs": [],
   "source": [
    "# Fungsi untuk menentukan polaritas sentimen dari teks\n",
    "def sentiment_analysis(polarity):\n",
    "    kategori_sentimen = ''\n",
    "    if polarity > 8:\n",
    "        kategori_sentimen = 'sangat senang'\n",
    "    elif polarity > 6:\n",
    "        kategori_sentimen = 'sangat bahagia'\n",
    "    elif polarity > 4:\n",
    "        kategori_sentimen = 'bahagia'\n",
    "    elif polarity > 2:\n",
    "        kategori_sentimen = 'puas'\n",
    "    elif polarity > 1:\n",
    "        kategori_sentimen = 'netral'\n",
    "    elif polarity > -4:\n",
    "        kategori_sentimen = 'sedih'\n",
    "    elif polarity > -6:\n",
    "        kategori_sentimen = 'sangat sedih'\n",
    "    elif polarity > -8:\n",
    "        kategori_sentimen = 'sangat marah'\n",
    "    else:\n",
    "        kategori_sentimen = 'marah'\n",
    "    return pd.Series([polarity, kategori_sentimen], index=['polarity_text', 'sentimen'])\n",
    "\n",
    "final[['polarity_text', 'sentimen']] = final['polarity_text'].apply(sentiment_analysis)\n",
    "final = final.dropna()\n",
    "\n",
    "# Hitung jumlah kategori sentimen\n",
    "sentiment_counts = final['sentimen'].value_counts()\n",
    "total_data = len(final)\n",
    "sentiment_percentages = (sentiment_counts / total_data) * 100\n",
    "sentiment_percentages_rounded = sentiment_percentages.round(2)  # Bundel nilai bulat\n",
    "final_summary = pd.DataFrame({'jumlah': sentiment_counts, 'persentase (%)': sentiment_percentages_rounded})\n",
    "final_summary.loc['total'] = final_summary.sum()\n",
    "print(\"Summary Sentiment Analysis:\")\n",
    "print(final_summary)\n",
    "print(\"\\nTotal data:\", total_data)\n",
    "\n",
    "final.to_excel('hasil/klasifikasi_sentimen_perasaan.xlsx', index=False)\n"
   ]
  },
  {
   "cell_type": "code",
   "execution_count": null,
   "metadata": {},
   "outputs": [],
   "source": [
    "import matplotlib.pyplot as plt\n",
    "\n",
    "chart_value = final['sentimen'].value_counts().values\n",
    "chart_index = final['sentimen'].value_counts().index\n",
    "\n",
    "colors = plt.cm.viridis_r(chart_value / float(max(chart_value)))  # Menggunakan colormap viridis_r\n",
    "plt.bar(chart_index, chart_value, color=colors, alpha=0.7)\n",
    "\n",
    "plt.title('Analisis Sentimen')\n",
    "plt.xlabel('Sentimen')\n",
    "plt.ylabel('Jumlah Sentimen')\n",
    "plt.grid(color='#a83289', linestyle='--', linewidth=1, axis='y', alpha=0.25)\n",
    "\n",
    "# Rotasi label sumbu x\n",
    "plt.xticks(rotation=45, ha='right')  # Rotasi 45 derajat dan penempatan ke kanan\n",
    "\n",
    "plt.show()\n"
   ]
  }
 ],
 "metadata": {
  "kernelspec": {
   "display_name": "Python 3",
   "language": "python",
   "name": "python3"
  },
  "language_info": {
   "codemirror_mode": {
    "name": "ipython",
    "version": 3
   },
   "file_extension": ".py",
   "mimetype": "text/x-python",
   "name": "python",
   "nbconvert_exporter": "python",
   "pygments_lexer": "ipython3",
   "version": "3.12.2"
  }
 },
 "nbformat": 4,
 "nbformat_minor": 2
}
